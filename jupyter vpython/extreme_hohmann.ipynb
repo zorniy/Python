{
 "cells": [
  {
   "cell_type": "code",
   "execution_count": 1,
   "metadata": {},
   "outputs": [
    {
     "data": {
      "text/html": [
       "<div id=\"glowscript\" class=\"glowscript\"></div>"
      ],
      "text/plain": [
       "<IPython.core.display.HTML object>"
      ]
     },
     "metadata": {},
     "output_type": "display_data"
    },
    {
     "data": {
      "application/javascript": [
       "if (typeof Jupyter !== \"undefined\") { window.__context = { glowscript_container: $(\"#glowscript\").removeAttr(\"id\")};}else{ element.textContent = ' ';}"
      ],
      "text/plain": [
       "<IPython.core.display.Javascript object>"
      ]
     },
     "metadata": {},
     "output_type": "display_data"
    },
    {
     "data": {
      "text/html": [
       "<div id=\"glowscript\" class=\"glowscript\"></div>"
      ],
      "text/plain": [
       "<IPython.core.display.HTML object>"
      ]
     },
     "metadata": {},
     "output_type": "display_data"
    },
    {
     "data": {
      "application/javascript": [
       "if (typeof Jupyter !== \"undefined\") { window.__context = { glowscript_container: $(\"#glowscript\").removeAttr(\"id\")};}else{ element.textContent = ' ';}"
      ],
      "text/plain": [
       "<IPython.core.display.Javascript object>"
      ]
     },
     "metadata": {},
     "output_type": "display_data"
    },
    {
     "data": {
      "application/javascript": [
       "if (typeof Jupyter !== \"undefined\") {require.undef(\"nbextensions/vpython_libraries/glow.min\");}else{element.textContent = ' ';}"
      ],
      "text/plain": [
       "<IPython.core.display.Javascript object>"
      ]
     },
     "metadata": {},
     "output_type": "display_data"
    },
    {
     "data": {
      "application/javascript": [
       "if (typeof Jupyter !== \"undefined\") {require.undef(\"nbextensions/vpython_libraries/glowcomm\");}else{element.textContent = ' ';}"
      ],
      "text/plain": [
       "<IPython.core.display.Javascript object>"
      ]
     },
     "metadata": {},
     "output_type": "display_data"
    },
    {
     "data": {
      "application/javascript": [
       "if (typeof Jupyter !== \"undefined\") {require.undef(\"nbextensions/vpython_libraries/jquery-ui.custom.min\");}else{element.textContent = ' ';}"
      ],
      "text/plain": [
       "<IPython.core.display.Javascript object>"
      ]
     },
     "metadata": {},
     "output_type": "display_data"
    },
    {
     "data": {
      "application/javascript": [
       "if (typeof Jupyter !== \"undefined\") {require([\"nbextensions/vpython_libraries/glow.min\"], function(){console.log(\"GLOW LOADED\");});}else{element.textContent = ' ';}"
      ],
      "text/plain": [
       "<IPython.core.display.Javascript object>"
      ]
     },
     "metadata": {},
     "output_type": "display_data"
    },
    {
     "data": {
      "application/javascript": [
       "if (typeof Jupyter !== \"undefined\") {require([\"nbextensions/vpython_libraries/glowcomm\"], function(){console.log(\"GLOWCOMM LOADED\");});}else{element.textContent = ' ';}"
      ],
      "text/plain": [
       "<IPython.core.display.Javascript object>"
      ]
     },
     "metadata": {},
     "output_type": "display_data"
    },
    {
     "data": {
      "application/javascript": [
       "if (typeof Jupyter !== \"undefined\") {require([\"nbextensions/vpython_libraries/jquery-ui.custom.min\"], function(){console.log(\"JQUERY LOADED\");});}else{element.textContent = ' ';}"
      ],
      "text/plain": [
       "<IPython.core.display.Javascript object>"
      ]
     },
     "metadata": {},
     "output_type": "display_data"
    },
    {
     "name": "stdout",
     "output_type": "stream",
     "text": [
      "1\n",
      "2\n",
      "3\n",
      "4\n",
      "5\n",
      "6\n",
      "7\n"
     ]
    },
    {
     "ename": "IndexError",
     "evalue": "list index out of range",
     "output_type": "error",
     "traceback": [
      "\u001b[0;31m---------------------------------------------------------------------------\u001b[0m",
      "\u001b[0;31mIndexError\u001b[0m                                Traceback (most recent call last)",
      "\u001b[0;32m<ipython-input-1-9ed536593483>\u001b[0m in \u001b[0;36m<module>\u001b[0;34m\u001b[0m\n\u001b[1;32m    135\u001b[0m         \u001b[0mpl\u001b[0m\u001b[0;34m[\u001b[0m\u001b[0mi\u001b[0m\u001b[0;34m]\u001b[0m\u001b[0;34m.\u001b[0m\u001b[0mmove\u001b[0m\u001b[0;34m(\u001b[0m\u001b[0;34m)\u001b[0m\u001b[0;34m\u001b[0m\u001b[0;34m\u001b[0m\u001b[0m\n\u001b[1;32m    136\u001b[0m \u001b[0;34m\u001b[0m\u001b[0m\n\u001b[0;32m--> 137\u001b[0;31m     \u001b[0mprobe\u001b[0m\u001b[0;34m.\u001b[0m\u001b[0mmove\u001b[0m\u001b[0;34m(\u001b[0m\u001b[0mpl\u001b[0m\u001b[0;34m[\u001b[0m\u001b[0mk\u001b[0m\u001b[0;34m]\u001b[0m\u001b[0;34m,\u001b[0m \u001b[0mpl\u001b[0m\u001b[0;34m[\u001b[0m\u001b[0mk\u001b[0m\u001b[0;34m+\u001b[0m\u001b[0;36m1\u001b[0m\u001b[0;34m]\u001b[0m\u001b[0;34m)\u001b[0m\u001b[0;34m\u001b[0m\u001b[0;34m\u001b[0m\u001b[0m\n\u001b[0m\u001b[1;32m    138\u001b[0m \u001b[0;34m\u001b[0m\u001b[0m\n\u001b[1;32m    139\u001b[0m     \u001b[0;32mif\u001b[0m \u001b[0mmag\u001b[0m\u001b[0;34m(\u001b[0m\u001b[0mprobe\u001b[0m\u001b[0;34m.\u001b[0m\u001b[0mpos\u001b[0m \u001b[0;34m-\u001b[0m \u001b[0mpl\u001b[0m\u001b[0;34m[\u001b[0m\u001b[0mk\u001b[0m\u001b[0;34m+\u001b[0m\u001b[0;36m1\u001b[0m\u001b[0;34m]\u001b[0m\u001b[0;34m.\u001b[0m\u001b[0mpos\u001b[0m\u001b[0;34m)\u001b[0m \u001b[0;34m<\u001b[0m\u001b[0;36m1\u001b[0m \u001b[0;32mand\u001b[0m \u001b[0mk\u001b[0m\u001b[0;34m<\u001b[0m\u001b[0;36m7\u001b[0m\u001b[0;34m:\u001b[0m\u001b[0;34m\u001b[0m\u001b[0;34m\u001b[0m\u001b[0m\n",
      "\u001b[0;31mIndexError\u001b[0m: list index out of range"
     ]
    }
   ],
   "source": [
    "from vpython import *\n",
    "\n",
    "scene = canvas(height=600, width=800)\n",
    "\n",
    "## ===========\n",
    "## GLOBAL VARIABLES\n",
    "## ===========\n",
    "\n",
    "GM = 1E4\n",
    "dt = 0.001\n",
    "\n",
    "##==============\n",
    "\n",
    "\n",
    "##==============\n",
    "## PLANET CLASS\n",
    "##==============\n",
    "\n",
    "class planet(sphere):\n",
    "    def __init__(self, name, pos, warna):\n",
    "        self.name = name\n",
    "        sphere.__init__(self, pos = pos, radius = 10, make_trail=True, retain =mag(pos)/3 , color=warna)\n",
    "        vee = (GM/mag(pos))**0.5\n",
    "        tangent = vector(-self.pos.y, self.pos.x,0)/mag(self.pos)\n",
    "        self.vel = 1*vee * tangent\n",
    "        #self.lab = label(text=self.name, pos=self.pos+vector(0,20,0))\n",
    "        \n",
    "    \n",
    "    def acc(self):\n",
    "        a = -GM*self.pos/(mag(self.pos)**3)\n",
    "        #self.lab.pos =self.pos\n",
    "        return(a)\n",
    "\n",
    "    def move(self):\n",
    "        self.vel = self.vel + self.acc()*dt\n",
    "        self.pos = self.pos + self.vel*dt\n",
    "\n",
    "\n",
    "##==========================\n",
    "##        CLASS PROBE\n",
    "##==========================\n",
    "\n",
    "class cube(box):\n",
    "    def __init__(self, pos):\n",
    "        box.__init__(self, pos = pos, color = color.red, size=vector(20,20,20), make_trail = False)\n",
    "        vee = (GM/mag(pos))**0.5\n",
    "        tangent = vector(-self.pos.y, self.pos.x, 0)/mag(self.pos)\n",
    "        self.vel = vee*tangent\n",
    "\n",
    "        self.isLaunch = False\n",
    "        self.Flag = False\n",
    "\n",
    "        #self.lab = label(text = \"probe\", pos= self.pos)\n",
    "\n",
    "    \n",
    "    def vLaunch(self, pl1, pl2):\n",
    "        a = (mag(pl1.pos) + mag(pl2.pos))/2\n",
    "        vee = (GM*(2/mag(self.pos)-1/a))**0.5\n",
    "        return vee\n",
    "    \n",
    "    def Lag(self,pl1,pl2):\n",
    "        a = (mag(pl1.pos)+mag(pl2.pos))/2\n",
    "        Tau = 2 * pi *((a**3)/GM)**0.5\n",
    "        tFlight = Tau/2\n",
    "\n",
    "        Tau2 = 2*pi *((mag(pl2.pos)**3)/GM)**0.5\n",
    "        lagg = abs(pi-2*pi*tFlight/Tau2)\n",
    "        return lagg\n",
    "        \n",
    "\n",
    "    \n",
    "    def move(self, pl1, pl2):\n",
    "\n",
    "        angle = diff_angle(pl1.pos, pl2.pos)\n",
    "        if angle > 2:\n",
    "            self.Flag = True\n",
    "\n",
    "        if angle < self.Lag(pl1,pl2) and self.Flag == True and self.isLaunch == False:\n",
    "            tangent = vector(-self.pos.y, self.pos.x, 0)/mag(self.pos)\n",
    "            self.vel = self.vLaunch(pl1,pl2)*tangent\n",
    "            self.isLaunch = True\n",
    "            self.make_trail=True\n",
    "            \n",
    "        \n",
    "        if mag(self.pos - pl2.pos) < 1:\n",
    "            self.pos = pl2.pos\n",
    "            self.vel = pl2.vel\n",
    "            self.isLaunch = False\n",
    "            self.Flag = False\n",
    "            self.make_trail = False\n",
    "\n",
    "        \n",
    "        acc = -GM*self.pos/mag(self.pos)**3\n",
    "        self.vel = self.vel + acc*dt\n",
    "        self.pos =self.pos + self.vel*dt\n",
    "        \n",
    "        #self.lab.pos = self.pos\n",
    "        \n",
    "        \n",
    "\n",
    "\n",
    "\n",
    "\n",
    "\n",
    "\n",
    "\n",
    "##================================================================\n",
    "## PUBLIC STATIC VOID MAIN PROGRAM\n",
    "##================================================================\n",
    "        \n",
    "\n",
    "sun = sphere(radius =10, color=color.yellow)\n",
    "\n",
    "pl = []\n",
    "name = [\"mercury\", \"venus\", \"earth\", \"mars\", \"jupiter\", \"saturn\", \"uranus\", \"neptune\"]\n",
    "warna =[color.blue, color.white, color.cyan, color.orange, color.purple, color.blue, color.magenta, color.green]\n",
    "dist = [vec(20,0,0), vector(40,0,0), vector(80,0,0), vector(160,0,0), vector(320,0,0), vector(640,0,0), vector(1280,0,0), vector(2000,0,0) ]\n",
    "\n",
    "for i in range(8):\n",
    "    pl = pl + [planet(name[i],dist[i], warna[i])]\n",
    "\n",
    "\n",
    "probe = cube(pos=pl[0].pos)\n",
    "\n",
    "\n",
    "k=0\n",
    "\n",
    "RunSim = True\n",
    "\n",
    "direction = \"out\"\n",
    "\n",
    "while RunSim==True:\n",
    "    rate(6000)\n",
    "    for i in range(8):\n",
    "        pl[i].move()\n",
    "\n",
    "    probe.move(pl[k], pl[k+1])\n",
    "\n",
    "    if mag(probe.pos - pl[k+1].pos) <1 and k<7:\n",
    "        k=k+1\n",
    "        print(k)\n",
    "      \n",
    "    if k >= 4:\n",
    "            dt = 0.01\n",
    "\n",
    "    if k< 4:\n",
    "            dt =0.001\n",
    "        \n",
    "    \n",
    "\n",
    "\n"
   ]
  },
  {
   "cell_type": "code",
   "execution_count": null,
   "metadata": {},
   "outputs": [],
   "source": []
  }
 ],
 "metadata": {
  "kernelspec": {
   "display_name": "Python 3",
   "language": "python",
   "name": "python3"
  },
  "language_info": {
   "codemirror_mode": {
    "name": "ipython",
    "version": 3
   },
   "file_extension": ".py",
   "mimetype": "text/x-python",
   "name": "python",
   "nbconvert_exporter": "python",
   "pygments_lexer": "ipython3",
   "version": "3.8.2"
  }
 },
 "nbformat": 4,
 "nbformat_minor": 4
}
